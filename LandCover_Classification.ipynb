{
 "cells": [
  {
   "cell_type": "markdown",
   "id": "b2d1a398",
   "metadata": {},
   "source": [
    "# 🛰️ LandCover Classification\n",
    "\n",
    "Este notebook realiza a classificação de uso e cobertura da terra utilizando imagens Sentinel-2 e Random Forest."
   ]
  },
  {
   "cell_type": "markdown",
   "id": "7f446090",
   "metadata": {},
   "source": [
    "## 🔧 Importação de Bibliotecas"
   ]
  },
  {
   "cell_type": "code",
   "execution_count": null,
   "id": "10debcbe",
   "metadata": {},
   "outputs": [],
   "source": [
    "\n",
    "import numpy as np\n",
    "import matplotlib.pyplot as plt\n",
    "import rasterio\n",
    "from sklearn.ensemble import RandomForestClassifier\n",
    "from sklearn.model_selection import train_test_split\n",
    "from sklearn.metrics import accuracy_score\n",
    "from src.preprocessing import load_image, normalize_image, calculate_ndvi, load_labels\n",
    "from src.model import train_model, classify_image\n",
    "from src.export import export_raster\n",
    "from src.visualization import plot_classification\n",
    "    "
   ]
  },
  {
   "cell_type": "markdown",
   "id": "6e62abcc",
   "metadata": {},
   "source": [
    "## 📂 Carregamento dos Dados"
   ]
  },
  {
   "cell_type": "code",
   "execution_count": null,
   "id": "6c8e726c",
   "metadata": {},
   "outputs": [],
   "source": [
    "\n",
    "image_path = \"data/sentinel2_example.tif\"\n",
    "label_path = \"data/labels.tif\"\n",
    "\n",
    "image, profile = load_image(image_path)\n",
    "labels, _ = load_labels(label_path)\n",
    "\n",
    "print(\"Imagem shape:\", image.shape)\n",
    "print(\"Labels shape:\", labels.shape)\n",
    "    "
   ]
  },
  {
   "cell_type": "markdown",
   "id": "77a5ca37",
   "metadata": {},
   "source": [
    "## 🧽 Pré-processamento e Cálculo de NDVI"
   ]
  },
  {
   "cell_type": "code",
   "execution_count": null,
   "id": "a20edbcb",
   "metadata": {},
   "outputs": [],
   "source": [
    "\n",
    "image_normalized = normalize_image(image)\n",
    "\n",
    "if image.shape[0] >= 5:\n",
    "    ndvi = calculate_ndvi(image_normalized[4], image_normalized[3])\n",
    "    image_with_ndvi = np.vstack([image_normalized, ndvi[None, ...]])\n",
    "else:\n",
    "    print(\"NDVI não pôde ser calculado. Prosseguindo sem NDVI.\")\n",
    "    image_with_ndvi = image_normalized\n",
    "    "
   ]
  },
  {
   "cell_type": "markdown",
   "id": "e3665ad0",
   "metadata": {},
   "source": [
    "## 🏷️ Preparação dos Dados para o Modelo"
   ]
  },
  {
   "cell_type": "code",
   "execution_count": null,
   "id": "cfbab6d8",
   "metadata": {},
   "outputs": [],
   "source": [
    "\n",
    "labels_flat = labels.flatten()\n",
    "mask = labels_flat != 0\n",
    "\n",
    "features = image_with_ndvi.reshape(image_with_ndvi.shape[0], -1).T\n",
    "features = features[mask]\n",
    "labels_flat = labels_flat[mask]\n",
    "\n",
    "X_train, X_test, y_train, y_test = train_test_split(\n",
    "    features, labels_flat, test_size=0.3, random_state=42\n",
    ")\n",
    "    "
   ]
  },
  {
   "cell_type": "markdown",
   "id": "23e67756",
   "metadata": {},
   "source": [
    "## 🧠 Treinamento do Modelo"
   ]
  },
  {
   "cell_type": "code",
   "execution_count": null,
   "id": "2691d938",
   "metadata": {},
   "outputs": [],
   "source": [
    "\n",
    "model = train_model(X_train, y_train)\n",
    "\n",
    "y_pred = model.predict(X_test)\n",
    "accuracy = accuracy_score(y_test, y_pred)\n",
    "print(f\"Acurácia: {accuracy * 100:.2f}%\")\n",
    "    "
   ]
  },
  {
   "cell_type": "markdown",
   "id": "60c0763c",
   "metadata": {},
   "source": [
    "## 🗺️ Classificação da Imagem Completa"
   ]
  },
  {
   "cell_type": "code",
   "execution_count": null,
   "id": "b7a4455a",
   "metadata": {},
   "outputs": [],
   "source": [
    "\n",
    "classified = classify_image(model, image_with_ndvi)\n",
    "    "
   ]
  },
  {
   "cell_type": "markdown",
   "id": "d818725f",
   "metadata": {},
   "source": [
    "## 💾 Exportação dos Resultados"
   ]
  },
  {
   "cell_type": "code",
   "execution_count": null,
   "id": "e742e284",
   "metadata": {},
   "outputs": [],
   "source": [
    "\n",
    "export_raster(\"outputs/rasters/resultado_classificacao.tif\", classified, profile)\n",
    "plot_classification(classified, \"outputs/figures/mapa_classificado.pdf\")\n",
    "    "
   ]
  },
  {
   "cell_type": "markdown",
   "id": "3586d040",
   "metadata": {},
   "source": [
    "## ✅ Fim do Pipeline"
   ]
  },
  {
   "cell_type": "code",
   "execution_count": null,
   "id": "7fb04c6e",
   "metadata": {},
   "outputs": [],
   "source": [
    "\n",
    "print(\"Pipeline executado com sucesso!\")\n",
    "    "
   ]
  }
 ],
 "metadata": {},
 "nbformat": 4,
 "nbformat_minor": 5
}
